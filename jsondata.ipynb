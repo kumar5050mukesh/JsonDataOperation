{
 "cells": [
  {
   "cell_type": "code",
   "execution_count": 4,
   "id": "a8257a72-972a-4cb6-a0e9-c95a6d6b7c91",
   "metadata": {},
   "outputs": [
    {
     "data": {
      "text/plain": [
       "dict"
      ]
     },
     "execution_count": 4,
     "metadata": {},
     "output_type": "execute_result"
    }
   ],
   "source": [
    "\n",
    "\n",
    "data1={\n",
    "    \"fruit\": \"Apple\",\n",
    "    \"size\": \"Large\",\n",
    "    \"color\": \"Red\"\n",
    "}\n",
    "type(data1)\n",
    "import json\n",
    "data = {\"key1\": \"value1\", \"key2\": \"value2\", \"key3\": \"value3\"}\n",
    "type(data)"
   ]
  },
  {
   "cell_type": "code",
   "execution_count": 5,
   "id": "aa84ded1-9cfe-4da1-a037-33e69303bfd7",
   "metadata": {},
   "outputs": [
    {
     "name": "stdout",
     "output_type": "stream",
     "text": [
      "{'key1': 'value1', 'key2': [1, 2, 3], 'key3': {'nested_key1': 'nested_value1'}}\n"
     ]
    }
   ],
   "source": [
    "data = {\"key1\": \"value1\", \"key2\": [1, 2, 3], \"key3\": {\"nested_key1\": \"nested_value1\"}}\n",
    "\n",
    "\n",
    "sorted_data = {k: v for k, v in sorted(data.items())}\n",
    "print(sorted_data)\n",
    "\n",
    "# Serialize the sorted dictionary to a JSON string\n",
    "json_str = json.dumps(sorted_data)\n",
    "\n",
    "# Write the JSON string to a file\n",
    "with open(\"sorted_data.json\", \"w\") as f:\n",
    "    f.write(json_str)\n"
   ]
  },
  {
   "cell_type": "code",
   "execution_count": 6,
   "id": "e4f90600-8a69-46d0-83d6-6ded3646d16b",
   "metadata": {},
   "outputs": [
    {
     "name": "stdout",
     "output_type": "stream",
     "text": [
      "{\"key1\": \"value1\", \"key2\": [1, 2, 3], \"key3\": {\"nested_key1\": \"nested_value1\"}}\n"
     ]
    }
   ],
   "source": [
    "json_str = json.dumps(sorted_data)\n",
    "print(json_str)"
   ]
  },
  {
   "cell_type": "code",
   "execution_count": 8,
   "id": "9eda4995-03cc-48fb-8ca1-088dad4358dc",
   "metadata": {},
   "outputs": [],
   "source": [
    "with open(\"sorted_data.json\", \"w\") as f:\n",
    "    f.write(json_str)"
   ]
  },
  {
   "cell_type": "code",
   "execution_count": 31,
   "id": "161e3144-0a59-4242-a938-dc815fae2aa0",
   "metadata": {},
   "outputs": [
    {
     "name": "stdout",
     "output_type": "stream",
     "text": [
      "7000\n",
      "7000\n"
     ]
    }
   ],
   "source": [
    "import json\n",
    "\n",
    "sampleJson = \"\"\"{ \n",
    "   \"company\":{ \n",
    "      \"employee\":{ \n",
    "         \"name\":\"emma\",\n",
    "         \"payble\":{ \n",
    "            \"salary\":7000,\n",
    "            \"bonus\":800\n",
    "         }\n",
    "      }\n",
    "   }\n",
    "}\"\"\"\n",
    "data = json.loads(sampleJson)\n",
    "print(data['company']['employee']['payble']['salary'])\n",
    "print(data['company']['employee']['payble']['salary'])\n",
    "# write code to print the value of salary"
   ]
  },
  {
   "cell_type": "code",
   "execution_count": 52,
   "id": "75418930-693e-47cc-8b8c-f1a43c5023c3",
   "metadata": {},
   "outputs": [
    {
     "name": "stdout",
     "output_type": "stream",
     "text": [
      "{\"key1\": \"value1\", \"key2\": [1, 2, 3], \"key3\": {\"nested_key1\": \"nested_value1\"}}\n"
     ]
    }
   ],
   "source": [
    "import json\n",
    "\n",
    "class SimpleEncoder(json.JSONEncoder):\n",
    "    def default(self, obj):\n",
    "        return obj.__str__\n",
    "    \n",
    "\n",
    "    \n",
    "\n",
    "data = {\"key1\": \"value1\", \"key2\": [1, 2, 3], \"key3\": {\"nested_key1\": \"nested_value1\"}}\n",
    "json_str = json.dumps(data, cls=SimpleEncoder)\n",
    "print(json_str)\n"
   ]
  },
  {
   "cell_type": "code",
   "execution_count": 51,
   "id": "dac39bec-4aae-4b1f-a2d5-fdb69cde548f",
   "metadata": {},
   "outputs": [
    {
     "name": "stdout",
     "output_type": "stream",
     "text": [
      "Encode Vehicle Object into JSON\n",
      "{\n",
      "    \"name\": \"Toyota Rav4\",\n",
      "    \"engine\": \"2.5L\",\n",
      "    \"price\": 32000\n",
      "}\n"
     ]
    }
   ],
   "source": [
    "import json\n",
    "from json import JSONEncoder\n",
    "\n",
    "class Vehicle:\n",
    "    def __init__(self, name, engine, price):\n",
    "        self.name = name\n",
    "        self.engine = engine\n",
    "        self.price = price\n",
    "\n",
    "class VehicleEncoder(JSONEncoder):\n",
    "        def default(self, o):\n",
    "            return o.__dict__\n",
    "        \n",
    "\n",
    "           \n",
    "\n",
    "vehicle = Vehicle(\"Toyota Rav4\", \"2.5L\", 32000)\n",
    "\n",
    "print(\"Encode Vehicle Object into JSON\")\n",
    "vehicleJson = json.dumps(vehicle, indent=4, cls=VehicleEncoder)\n",
    "print(vehicleJson)"
   ]
  },
  {
   "cell_type": "code",
   "execution_count": 49,
   "id": "3f69b7fb-0356-4bb2-8e0f-4db163342d99",
   "metadata": {},
   "outputs": [
    {
     "name": "stdout",
     "output_type": "stream",
     "text": [
      "{\"key1\": \"value1\", \"key2\": [1, 2, 3], \"key3\": {\"nested_key1\": \"nested_value1\"}}\n"
     ]
    }
   ],
   "source": [
    "import json\n",
    "\n",
    "class SimpleEncoder(json.JSONEncoder):\n",
    "    def default(self, obj):\n",
    "        return str(obj)\n",
    "\n",
    "data = {\"key1\": \"value1\", \"key2\": [1, 2, 3], \"key3\": {\"nested_key1\": \"nested_value1\"}}\n",
    "json_str = json.dumps(data, cls=SimpleEncoder)\n",
    "print(json_str)\n"
   ]
  },
  {
   "cell_type": "code",
   "execution_count": null,
   "id": "76af1b5f-701a-411d-8f53-0f04a574c2f6",
   "metadata": {},
   "outputs": [],
   "source": []
  }
 ],
 "metadata": {
  "kernelspec": {
   "display_name": "Python 3 (ipykernel)",
   "language": "python",
   "name": "python3"
  },
  "language_info": {
   "codemirror_mode": {
    "name": "ipython",
    "version": 3
   },
   "file_extension": ".py",
   "mimetype": "text/x-python",
   "name": "python",
   "nbconvert_exporter": "python",
   "pygments_lexer": "ipython3",
   "version": "3.10.8"
  }
 },
 "nbformat": 4,
 "nbformat_minor": 5
}
